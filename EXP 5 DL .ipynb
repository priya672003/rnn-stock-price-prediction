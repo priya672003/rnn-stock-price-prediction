{
 "cells": [
  {
   "cell_type": "code",
   "execution_count": 3,
   "id": "d993dee3",
   "metadata": {},
   "outputs": [],
   "source": [
    "import numpy as np\n",
    "import matplotlib.pyplot as plt\n",
    "import pandas as pd\n",
    "from sklearn.preprocessing import MinMaxScaler\n",
    "from keras import layers\n",
    "from keras.models import Sequential"
   ]
  },
  {
   "cell_type": "code",
   "execution_count": 4,
   "id": "2a5b6d65",
   "metadata": {},
   "outputs": [],
   "source": [
    "dataset_train = pd.read_csv('trainset.csv')"
   ]
  },
  {
   "cell_type": "code",
   "execution_count": 5,
   "id": "ff963baa",
   "metadata": {},
   "outputs": [
    {
     "data": {
      "text/plain": [
       "Index(['Date', 'Open', 'High', 'Low', 'Close', 'Adj Close', 'Volume'], dtype='object')"
      ]
     },
     "execution_count": 5,
     "metadata": {},
     "output_type": "execute_result"
    }
   ],
   "source": [
    "dataset_train.columnsa"
   ]
  },
  {
   "cell_type": "code",
   "execution_count": 6,
   "id": "c0d78ae7",
   "metadata": {},
   "outputs": [
    {
     "data": {
      "text/html": [
       "<div>\n",
       "<style scoped>\n",
       "    .dataframe tbody tr th:only-of-type {\n",
       "        vertical-align: middle;\n",
       "    }\n",
       "\n",
       "    .dataframe tbody tr th {\n",
       "        vertical-align: top;\n",
       "    }\n",
       "\n",
       "    .dataframe thead th {\n",
       "        text-align: right;\n",
       "    }\n",
       "</style>\n",
       "<table border=\"1\" class=\"dataframe\">\n",
       "  <thead>\n",
       "    <tr style=\"text-align: right;\">\n",
       "      <th></th>\n",
       "      <th>Date</th>\n",
       "      <th>Open</th>\n",
       "      <th>High</th>\n",
       "      <th>Low</th>\n",
       "      <th>Close</th>\n",
       "      <th>Adj Close</th>\n",
       "      <th>Volume</th>\n",
       "    </tr>\n",
       "  </thead>\n",
       "  <tbody>\n",
       "    <tr>\n",
       "      <th>0</th>\n",
       "      <td>2013-01-02</td>\n",
       "      <td>357.385559</td>\n",
       "      <td>361.151062</td>\n",
       "      <td>355.959839</td>\n",
       "      <td>359.288177</td>\n",
       "      <td>359.288177</td>\n",
       "      <td>5115500</td>\n",
       "    </tr>\n",
       "    <tr>\n",
       "      <th>1</th>\n",
       "      <td>2013-01-03</td>\n",
       "      <td>360.122742</td>\n",
       "      <td>363.600128</td>\n",
       "      <td>358.031342</td>\n",
       "      <td>359.496826</td>\n",
       "      <td>359.496826</td>\n",
       "      <td>4666500</td>\n",
       "    </tr>\n",
       "    <tr>\n",
       "      <th>2</th>\n",
       "      <td>2013-01-04</td>\n",
       "      <td>362.313507</td>\n",
       "      <td>368.339294</td>\n",
       "      <td>361.488861</td>\n",
       "      <td>366.600616</td>\n",
       "      <td>366.600616</td>\n",
       "      <td>5562800</td>\n",
       "    </tr>\n",
       "    <tr>\n",
       "      <th>3</th>\n",
       "      <td>2013-01-07</td>\n",
       "      <td>365.348755</td>\n",
       "      <td>367.301056</td>\n",
       "      <td>362.929504</td>\n",
       "      <td>365.001007</td>\n",
       "      <td>365.001007</td>\n",
       "      <td>3332900</td>\n",
       "    </tr>\n",
       "    <tr>\n",
       "      <th>4</th>\n",
       "      <td>2013-01-08</td>\n",
       "      <td>365.393463</td>\n",
       "      <td>365.771027</td>\n",
       "      <td>359.874359</td>\n",
       "      <td>364.280701</td>\n",
       "      <td>364.280701</td>\n",
       "      <td>3373900</td>\n",
       "    </tr>\n",
       "  </tbody>\n",
       "</table>\n",
       "</div>"
      ],
      "text/plain": [
       "         Date        Open        High         Low       Close   Adj Close  \\\n",
       "0  2013-01-02  357.385559  361.151062  355.959839  359.288177  359.288177   \n",
       "1  2013-01-03  360.122742  363.600128  358.031342  359.496826  359.496826   \n",
       "2  2013-01-04  362.313507  368.339294  361.488861  366.600616  366.600616   \n",
       "3  2013-01-07  365.348755  367.301056  362.929504  365.001007  365.001007   \n",
       "4  2013-01-08  365.393463  365.771027  359.874359  364.280701  364.280701   \n",
       "\n",
       "    Volume  \n",
       "0  5115500  \n",
       "1  4666500  \n",
       "2  5562800  \n",
       "3  3332900  \n",
       "4  3373900  "
      ]
     },
     "execution_count": 6,
     "metadata": {},
     "output_type": "execute_result"
    }
   ],
   "source": [
    "dataset_train.head()"
   ]
  },
  {
   "cell_type": "code",
   "execution_count": 7,
   "id": "ca188010",
   "metadata": {},
   "outputs": [],
   "source": [
    "train_set = dataset_train.iloc[:,1:2].values"
   ]
  },
  {
   "cell_type": "code",
   "execution_count": 8,
   "id": "aca6b543",
   "metadata": {},
   "outputs": [
    {
     "data": {
      "text/plain": [
       "numpy.ndarray"
      ]
     },
     "execution_count": 8,
     "metadata": {},
     "output_type": "execute_result"
    }
   ],
   "source": [
    "type(train_set)"
   ]
  },
  {
   "cell_type": "code",
   "execution_count": 9,
   "id": "6d8e650c",
   "metadata": {},
   "outputs": [
    {
     "data": {
      "text/plain": [
       "(1259, 1)"
      ]
     },
     "execution_count": 9,
     "metadata": {},
     "output_type": "execute_result"
    }
   ],
   "source": [
    "train_set.shape"
   ]
  },
  {
   "cell_type": "code",
   "execution_count": 10,
   "id": "6f4fa945",
   "metadata": {},
   "outputs": [],
   "source": [
    "sc = MinMaxScaler(feature_range=(0,1))\n",
    "training_set_scaled = sc.fit_transform(train_set)"
   ]
  },
  {
   "cell_type": "code",
   "execution_count": 11,
   "id": "59866052",
   "metadata": {},
   "outputs": [
    {
     "data": {
      "text/plain": [
       "(1259, 1)"
      ]
     },
     "execution_count": 11,
     "metadata": {},
     "output_type": "execute_result"
    }
   ],
   "source": [
    "training_set_scaled.shape"
   ]
  },
  {
   "cell_type": "code",
   "execution_count": 12,
   "id": "14807f45",
   "metadata": {},
   "outputs": [],
   "source": [
    "X_train_array = []\n",
    "y_train_array = []\n",
    "for i in range(60, 1259):\n",
    "    X_train_array.append(training_set_scaled[i-60:i,0])\n",
    "    y_train_array.append(training_set_scaled[i,0])\n",
    "X_train, y_train = np.array(X_train_array), np.array(y_train_array)\n",
    "X_train1 = X_train.reshape((X_train.shape[0], X_train.shape[1],1))"
   ]
  },
  {
   "cell_type": "code",
   "execution_count": 13,
   "id": "1d295622",
   "metadata": {},
   "outputs": [
    {
     "data": {
      "text/plain": [
       "(1199, 60)"
      ]
     },
     "execution_count": 13,
     "metadata": {},
     "output_type": "execute_result"
    }
   ],
   "source": [
    "X_train.shape"
   ]
  },
  {
   "cell_type": "code",
   "execution_count": 14,
   "id": "5d4e73cb",
   "metadata": {},
   "outputs": [],
   "source": [
    "length = 60\n",
    "n_features = 1"
   ]
  },
  {
   "cell_type": "code",
   "execution_count": 15,
   "id": "a2bdca03",
   "metadata": {},
   "outputs": [],
   "source": [
    "model = Sequential()\n",
    "model.add(layers.SimpleRNN(10,input_shape=(length,n_features)))\n",
    "model.add(layers.Dense(1))\n",
    "model.compile(optimizer='adam', loss='mse')"
   ]
  },
  {
   "cell_type": "code",
   "execution_count": 16,
   "id": "c2255606",
   "metadata": {},
   "outputs": [
    {
     "name": "stdout",
     "output_type": "stream",
     "text": [
      "Model: \"sequential\"\n",
      "_________________________________________________________________\n",
      " Layer (type)                Output Shape              Param #   \n",
      "=================================================================\n",
      " simple_rnn (SimpleRNN)      (None, 10)                120       \n",
      "                                                                 \n",
      " dense (Dense)               (None, 1)                 11        \n",
      "                                                                 \n",
      "=================================================================\n",
      "Total params: 131\n",
      "Trainable params: 131\n",
      "Non-trainable params: 0\n",
      "_________________________________________________________________\n"
     ]
    }
   ],
   "source": [
    "model.summary()"
   ]
  },
  {
   "cell_type": "code",
   "execution_count": 17,
   "id": "a04d7be1",
   "metadata": {},
   "outputs": [
    {
     "name": "stdout",
     "output_type": "stream",
     "text": [
      "Epoch 1/100\n",
      "38/38 [==============================] - 3s 10ms/step - loss: 0.0118\n",
      "Epoch 2/100\n",
      "38/38 [==============================] - 0s 12ms/step - loss: 0.0021\n",
      "Epoch 3/100\n",
      "38/38 [==============================] - 0s 8ms/step - loss: 0.0014\n",
      "Epoch 4/100\n",
      "38/38 [==============================] - 0s 9ms/step - loss: 0.0011\n",
      "Epoch 5/100\n",
      "38/38 [==============================] - 0s 7ms/step - loss: 9.7111e-04\n",
      "Epoch 6/100\n",
      "38/38 [==============================] - 0s 7ms/step - loss: 8.7153e-04\n",
      "Epoch 7/100\n",
      "38/38 [==============================] - 0s 7ms/step - loss: 7.8739e-04\n",
      "Epoch 8/100\n",
      "38/38 [==============================] - 0s 7ms/step - loss: 7.1602e-04\n",
      "Epoch 9/100\n",
      "38/38 [==============================] - 0s 8ms/step - loss: 6.9227e-04\n",
      "Epoch 10/100\n",
      "38/38 [==============================] - 0s 8ms/step - loss: 7.0105e-04\n",
      "Epoch 11/100\n",
      "38/38 [==============================] - 0s 7ms/step - loss: 6.5072e-04\n",
      "Epoch 12/100\n",
      "38/38 [==============================] - 0s 7ms/step - loss: 6.2313e-04\n",
      "Epoch 13/100\n",
      "38/38 [==============================] - 0s 6ms/step - loss: 6.0414e-04\n",
      "Epoch 14/100\n",
      "38/38 [==============================] - 0s 7ms/step - loss: 5.9447e-04\n",
      "Epoch 15/100\n",
      "38/38 [==============================] - 0s 8ms/step - loss: 5.6999e-04\n",
      "Epoch 16/100\n",
      "38/38 [==============================] - 0s 7ms/step - loss: 5.9478e-04\n",
      "Epoch 17/100\n",
      "38/38 [==============================] - 0s 8ms/step - loss: 5.6624e-04\n",
      "Epoch 18/100\n",
      "38/38 [==============================] - 0s 7ms/step - loss: 5.3266e-04\n",
      "Epoch 19/100\n",
      "38/38 [==============================] - 0s 7ms/step - loss: 5.2274e-04\n",
      "Epoch 20/100\n",
      "38/38 [==============================] - 0s 7ms/step - loss: 5.4104e-04\n",
      "Epoch 21/100\n",
      "38/38 [==============================] - 0s 7ms/step - loss: 5.0888e-04\n",
      "Epoch 22/100\n",
      "38/38 [==============================] - 0s 7ms/step - loss: 4.9563e-04\n",
      "Epoch 23/100\n",
      "38/38 [==============================] - 0s 8ms/step - loss: 4.7834e-04\n",
      "Epoch 24/100\n",
      "38/38 [==============================] - 0s 7ms/step - loss: 4.7672e-04\n",
      "Epoch 25/100\n",
      "38/38 [==============================] - 0s 7ms/step - loss: 4.7628e-04\n",
      "Epoch 26/100\n",
      "38/38 [==============================] - 0s 7ms/step - loss: 4.7243e-04\n",
      "Epoch 27/100\n",
      "38/38 [==============================] - 0s 7ms/step - loss: 4.4407e-04\n",
      "Epoch 28/100\n",
      "38/38 [==============================] - 0s 7ms/step - loss: 5.0621e-04\n",
      "Epoch 29/100\n",
      "38/38 [==============================] - 0s 7ms/step - loss: 4.6918e-04\n",
      "Epoch 30/100\n",
      "38/38 [==============================] - 0s 7ms/step - loss: 4.1698e-04\n",
      "Epoch 31/100\n",
      "38/38 [==============================] - 0s 7ms/step - loss: 4.1197e-04\n",
      "Epoch 32/100\n",
      "38/38 [==============================] - 0s 8ms/step - loss: 4.0612e-04\n",
      "Epoch 33/100\n",
      "38/38 [==============================] - 0s 7ms/step - loss: 3.9807e-04\n",
      "Epoch 34/100\n",
      "38/38 [==============================] - 0s 7ms/step - loss: 3.8197e-04\n",
      "Epoch 35/100\n",
      "38/38 [==============================] - 0s 7ms/step - loss: 4.1773e-04\n",
      "Epoch 36/100\n",
      "38/38 [==============================] - 0s 7ms/step - loss: 3.6924e-04\n",
      "Epoch 37/100\n",
      "38/38 [==============================] - 0s 8ms/step - loss: 3.8357e-04\n",
      "Epoch 38/100\n",
      "38/38 [==============================] - 0s 8ms/step - loss: 3.6777e-04\n",
      "Epoch 39/100\n",
      "38/38 [==============================] - 0s 7ms/step - loss: 3.9077e-04\n",
      "Epoch 40/100\n",
      "38/38 [==============================] - 0s 8ms/step - loss: 3.6430e-04\n",
      "Epoch 41/100\n",
      "38/38 [==============================] - 0s 7ms/step - loss: 3.4433e-04\n",
      "Epoch 42/100\n",
      "38/38 [==============================] - 0s 7ms/step - loss: 3.4816e-04\n",
      "Epoch 43/100\n",
      "38/38 [==============================] - 0s 7ms/step - loss: 3.3604e-04\n",
      "Epoch 44/100\n",
      "38/38 [==============================] - 0s 7ms/step - loss: 3.3256e-04\n",
      "Epoch 45/100\n",
      "38/38 [==============================] - 0s 8ms/step - loss: 3.2764e-04\n",
      "Epoch 46/100\n",
      "38/38 [==============================] - 0s 7ms/step - loss: 3.3126e-04\n",
      "Epoch 47/100\n",
      "38/38 [==============================] - 0s 8ms/step - loss: 3.1387e-04\n",
      "Epoch 48/100\n",
      "38/38 [==============================] - 0s 7ms/step - loss: 3.1781e-04\n",
      "Epoch 49/100\n",
      "38/38 [==============================] - 0s 7ms/step - loss: 3.2134e-04\n",
      "Epoch 50/100\n",
      "38/38 [==============================] - 0s 7ms/step - loss: 3.0096e-04\n",
      "Epoch 51/100\n",
      "38/38 [==============================] - 0s 8ms/step - loss: 3.0280e-04\n",
      "Epoch 52/100\n",
      "38/38 [==============================] - 0s 8ms/step - loss: 3.1091e-04\n",
      "Epoch 53/100\n",
      "38/38 [==============================] - 0s 8ms/step - loss: 2.9843e-04\n",
      "Epoch 54/100\n",
      "38/38 [==============================] - 0s 8ms/step - loss: 2.9195e-04\n",
      "Epoch 55/100\n",
      "38/38 [==============================] - 0s 7ms/step - loss: 2.7416e-04\n",
      "Epoch 56/100\n",
      "38/38 [==============================] - 0s 7ms/step - loss: 2.7302e-04\n",
      "Epoch 57/100\n",
      "38/38 [==============================] - 0s 7ms/step - loss: 2.7730e-04\n",
      "Epoch 58/100\n",
      "38/38 [==============================] - 0s 7ms/step - loss: 2.8589e-04\n",
      "Epoch 59/100\n",
      "38/38 [==============================] - 0s 8ms/step - loss: 2.6661e-04\n",
      "Epoch 60/100\n",
      "38/38 [==============================] - 0s 7ms/step - loss: 2.8496e-04\n",
      "Epoch 61/100\n",
      "38/38 [==============================] - 0s 8ms/step - loss: 2.6476e-04\n",
      "Epoch 62/100\n",
      "38/38 [==============================] - 0s 7ms/step - loss: 2.7082e-04\n",
      "Epoch 63/100\n",
      "38/38 [==============================] - 0s 7ms/step - loss: 2.5940e-04\n",
      "Epoch 64/100\n",
      "38/38 [==============================] - 0s 7ms/step - loss: 2.5959e-04\n",
      "Epoch 65/100\n",
      "38/38 [==============================] - 0s 7ms/step - loss: 2.6909e-04\n",
      "Epoch 66/100\n",
      "38/38 [==============================] - 0s 8ms/step - loss: 2.5256e-04\n",
      "Epoch 67/100\n",
      "38/38 [==============================] - 0s 7ms/step - loss: 2.5266e-04\n",
      "Epoch 68/100\n",
      "38/38 [==============================] - 0s 7ms/step - loss: 2.4147e-04\n",
      "Epoch 69/100\n",
      "38/38 [==============================] - 0s 7ms/step - loss: 2.4226e-04\n",
      "Epoch 70/100\n",
      "38/38 [==============================] - 0s 7ms/step - loss: 2.4302e-04\n",
      "Epoch 71/100\n",
      "38/38 [==============================] - 0s 7ms/step - loss: 2.4064e-04\n",
      "Epoch 72/100\n",
      "38/38 [==============================] - 0s 7ms/step - loss: 2.5896e-04\n",
      "Epoch 73/100\n",
      "38/38 [==============================] - 0s 7ms/step - loss: 2.4751e-04\n",
      "Epoch 74/100\n",
      "38/38 [==============================] - 0s 7ms/step - loss: 2.3387e-04\n",
      "Epoch 75/100\n",
      "38/38 [==============================] - 0s 7ms/step - loss: 2.4303e-04\n",
      "Epoch 76/100\n",
      "38/38 [==============================] - 0s 7ms/step - loss: 2.2612e-04\n",
      "Epoch 77/100\n",
      "38/38 [==============================] - 0s 7ms/step - loss: 2.2922e-04\n",
      "Epoch 78/100\n",
      "38/38 [==============================] - 0s 7ms/step - loss: 2.3097e-04\n",
      "Epoch 79/100\n",
      "38/38 [==============================] - 0s 8ms/step - loss: 2.2933e-04\n",
      "Epoch 80/100\n",
      "38/38 [==============================] - 0s 9ms/step - loss: 2.2308e-04\n",
      "Epoch 81/100\n",
      "38/38 [==============================] - 0s 8ms/step - loss: 2.2840e-04\n",
      "Epoch 82/100\n",
      "38/38 [==============================] - 0s 8ms/step - loss: 2.3233e-04\n",
      "Epoch 83/100\n",
      "38/38 [==============================] - 0s 7ms/step - loss: 2.3310e-04\n",
      "Epoch 84/100\n",
      "38/38 [==============================] - 0s 7ms/step - loss: 2.2299e-04\n",
      "Epoch 85/100\n",
      "38/38 [==============================] - 0s 8ms/step - loss: 2.1801e-04\n",
      "Epoch 86/100\n",
      "38/38 [==============================] - 0s 7ms/step - loss: 2.1663e-04\n",
      "Epoch 87/100\n",
      "38/38 [==============================] - 0s 8ms/step - loss: 2.3725e-04\n",
      "Epoch 88/100\n",
      "38/38 [==============================] - 0s 8ms/step - loss: 2.2684e-04\n",
      "Epoch 89/100\n",
      "38/38 [==============================] - 0s 7ms/step - loss: 2.0769e-04\n",
      "Epoch 90/100\n",
      "38/38 [==============================] - 0s 7ms/step - loss: 2.1774e-04\n",
      "Epoch 91/100\n",
      "38/38 [==============================] - 0s 7ms/step - loss: 2.0764e-04\n",
      "Epoch 92/100\n",
      "38/38 [==============================] - 0s 7ms/step - loss: 2.0927e-04\n",
      "Epoch 93/100\n",
      "38/38 [==============================] - 0s 7ms/step - loss: 2.3342e-04\n",
      "Epoch 94/100\n",
      "38/38 [==============================] - 0s 8ms/step - loss: 2.0516e-04\n",
      "Epoch 95/100\n",
      "38/38 [==============================] - 0s 8ms/step - loss: 2.0610e-04\n",
      "Epoch 96/100\n",
      "38/38 [==============================] - 0s 8ms/step - loss: 2.0470e-04\n",
      "Epoch 97/100\n",
      "38/38 [==============================] - 0s 8ms/step - loss: 2.0088e-04\n",
      "Epoch 98/100\n",
      "38/38 [==============================] - 0s 7ms/step - loss: 2.0846e-04\n",
      "Epoch 99/100\n",
      "38/38 [==============================] - 0s 7ms/step - loss: 2.0689e-04\n",
      "Epoch 100/100\n",
      "38/38 [==============================] - 0s 7ms/step - loss: 2.0115e-04\n"
     ]
    },
    {
     "data": {
      "text/plain": [
       "<keras.callbacks.History at 0x1c4d269fd30>"
      ]
     },
     "execution_count": 17,
     "metadata": {},
     "output_type": "execute_result"
    }
   ],
   "source": [
    "model.fit(X_train1,y_train,epochs=100, batch_size=32)"
   ]
  },
  {
   "cell_type": "code",
   "execution_count": 19,
   "id": "5edc0010",
   "metadata": {},
   "outputs": [],
   "source": [
    "dataset_test = pd.read_csv('testset.csv')"
   ]
  },
  {
   "cell_type": "code",
   "execution_count": 20,
   "id": "5c68cdc2",
   "metadata": {},
   "outputs": [],
   "source": [
    "test_set = dataset_test.iloc[:,1:2].values"
   ]
  },
  {
   "cell_type": "code",
   "execution_count": 21,
   "id": "426c7e11",
   "metadata": {},
   "outputs": [
    {
     "data": {
      "text/plain": [
       "(125, 1)"
      ]
     },
     "execution_count": 21,
     "metadata": {},
     "output_type": "execute_result"
    }
   ],
   "source": [
    "test_set.shape"
   ]
  },
  {
   "cell_type": "code",
   "execution_count": 22,
   "id": "ec6b4a22",
   "metadata": {},
   "outputs": [],
   "source": [
    "dataset_total = pd.concat((dataset_train['Open'],dataset_test['Open']),axis=0)"
   ]
  },
  {
   "cell_type": "code",
   "execution_count": 29,
   "id": "c2e80143",
   "metadata": {},
   "outputs": [],
   "source": [
    "inputs = dataset_total.values\n",
    "inputs = inputs.reshape(-1,1)\n",
    "inputs_scaled=sc.transform(inputs)\n",
    "X_test = []\n",
    "y_test = []\n",
    "for i in range(60,1384):\n",
    "    X_test.append(inputs_scaled[i-60:i,0])\n",
    "    y_test.append(inputs_scaled[i,0])\n",
    "X_test = np.array(X_test)\n",
    "X_test = np.reshape(X_test,(X_test.shape[0], X_test.shape[1],1))"
   ]
  },
  {
   "cell_type": "code",
   "execution_count": 30,
   "id": "d685ac86",
   "metadata": {},
   "outputs": [
    {
     "data": {
      "text/plain": [
       "(1324, 60, 1)"
      ]
     },
     "execution_count": 30,
     "metadata": {},
     "output_type": "execute_result"
    }
   ],
   "source": [
    "X_test.shape"
   ]
  },
  {
   "cell_type": "code",
   "execution_count": 31,
   "id": "0f23d680",
   "metadata": {},
   "outputs": [],
   "source": [
    "predicted_stock_price_scaled = model.predict(X_test)\n",
    "predicted_stock_price = sc.inverse_transform(predicted_stock_price_scaled)"
   ]
  },
  {
   "cell_type": "code",
   "execution_count": 32,
   "id": "ec77e604",
   "metadata": {},
   "outputs": [
    {
     "data": {
      "image/png": "[encoded data removed]",
      "text/plain": [
       "<Figure size 432x288 with 1 Axes>"
      ]
     },
     "metadata": {
      "needs_background": "light"
     },
     "output_type": "display_data"
    }
   ],
   "source": [
    "plt.plot(np.arange(0,1384),inputs, color='red', label = 'Test(Real) Google stock price')\n",
    "plt.plot(np.arange(60,1384),predicted_stock_price, color='blue', label = 'Predicted Google stock price')\n",
    "plt.title('Google Stock Price Prediction')\n",
    "plt.xlabel('Time')\n",
    "plt.ylabel('Google Stock Price')\n",
    "plt.legend()\n",
    "plt.show()"
   ]
  },
  {
   "cell_type": "code",
   "execution_count": 33,
   "id": "1fb3cde6",
   "metadata": {},
   "outputs": [
    {
     "data": {
      "text/plain": [
       "533561.2839122365"
      ]
     },
     "execution_count": 33,
     "metadata": {},
     "output_type": "execute_result"
    }
   ],
   "source": [
    "from sklearn.metrics import mean_squared_error as mse\n",
    "mse(y_test,predicted_stock_price)"
   ]
  },
  {
   "cell_type": "code",
   "execution_count": null,
   "id": "099cc5f8",
   "metadata": {},
   "outputs": [],
   "source": []
  }
 ],
 "metadata": {
  "kernelspec": {
   "display_name": "Python 3 (ipykernel)",
   "language": "python",
   "name": "python3"
  },
  "language_info": {
   "codemirror_mode": {
    "name": "ipython",
    "version": 3
   },
   "file_extension": ".py",
   "mimetype": "text/x-python",
   "name": "python",
   "nbconvert_exporter": "python",
   "pygments_lexer": "ipython3",
   "version": "3.9.7"
  }
 },
 "nbformat": 4,
 "nbformat_minor": 5
}
